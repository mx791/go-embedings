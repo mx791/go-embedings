{
 "cells": [
  {
   "cell_type": "code",
   "execution_count": 10,
   "metadata": {},
   "outputs": [],
   "source": [
    "import json\n",
    "import numpy as np"
   ]
  },
  {
   "cell_type": "code",
   "execution_count": 26,
   "metadata": {},
   "outputs": [],
   "source": [
    "tracks = json.load(open(\"./output/track-list.json\", encoding=\"utf-8\"))\n",
    "embedings = json.load(open(\"./output/embedings.json\"))"
   ]
  },
  {
   "cell_type": "code",
   "execution_count": 5,
   "metadata": {},
   "outputs": [],
   "source": [
    "embeding_matrix = []\n",
    "for ebd in embedings:\n",
    "    embeding_matrix.append(ebd)\n",
    "\n",
    "embeding_matrix = np.array(embeding_matrix)"
   ]
  },
  {
   "cell_type": "code",
   "execution_count": 6,
   "metadata": {},
   "outputs": [],
   "source": [
    "id_to_track = {}\n",
    "\n",
    "for track in tracks:\n",
    "    id_to_track[tracks[track][\"id\"]] = tracks[track]"
   ]
  },
  {
   "cell_type": "code",
   "execution_count": 14,
   "metadata": {},
   "outputs": [
    {
     "name": "stdout",
     "output_type": "stream",
     "text": [
      "Queen - Bohemian Rhapsody - Remastered 2011\n",
      "Elton John - Rocket Man (I Think It's Going To Be A Long Long Time)\n",
      "AC/DC - Thunderstruck\n",
      "David Guetta - Titanium (feat. Sia) - feat. Sia\n"
     ]
    }
   ],
   "source": [
    "def show_infos(id):\n",
    "    return id_to_track[id][\"artist_name\"] + \" - \" + id_to_track[id][\"name\"]\n",
    "\n",
    "print(show_infos(66))\n",
    "print(show_infos(400))\n",
    "print(show_infos(562))\n",
    "print(show_infos(302))"
   ]
  },
  {
   "cell_type": "code",
   "execution_count": 8,
   "metadata": {},
   "outputs": [],
   "source": [
    "def find_n_closest(track_ebd, n):\n",
    "    distances = [np.linalg.norm(track_ebd - ebd) for ebd in embeding_matrix]\n",
    "    tracks = []\n",
    "    for i in range(n+1):\n",
    "        closest_id = np.argmin(distances)\n",
    "        if distances[closest_id] != 0.0:\n",
    "            tracks.append(show_infos(closest_id))\n",
    "        distances[closest_id] = 10000\n",
    "    return tracks"
   ]
  },
  {
   "cell_type": "code",
   "execution_count": 27,
   "metadata": {},
   "outputs": [
    {
     "name": "stdout",
     "output_type": "stream",
     "text": [
      "Queen - Bohemian Rhapsody - Remastered 2011 \n",
      " -  Billy Idol - Rebel Yell\n",
      " - U2 - I Still Haven't Found What I'm Looking For\n",
      " - Led Zeppelin - Immigrant Song\n",
      " - Foreigner - Cold As Ice - Single / LP Version\n",
      " - Blue Öyster Cult - Burnin' for You\n",
      "Elton John - Rocket Man (I Think It's Going To Be A Long Long Time) \n",
      " -  Don McLean - American Pie\n",
      " - Elton John - Bennie And The Jets - Remastered 2014\n",
      " - Elton John - Tiny Dancer\n",
      " - The Animals - House Of The Rising Sun\n",
      " - Simon & Garfunkel - Mrs. Robinson\n",
      "AC/DC - Thunderstruck \n",
      " -  Guns N' Roses - Welcome To The Jungle\n",
      " - Ozzy Osbourne - Crazy Train - Remastered\n",
      " - AC/DC - Highway to Hell\n",
      " - AC/DC - T.N.T.\n",
      " - Black Sabbath - Iron Man - Remastered Version\n",
      "David Guetta - Titanium (feat. Sia) - feat. Sia \n",
      " -  Lady Gaga - Applause\n",
      " - Katy Perry - Teenage Dream\n",
      " - Katy Perry - Last Friday Night (T.G.I.F.)\n",
      " - Ariana Grande - Problem\n",
      " - Kesha - C'Mon\n",
      "Daft Punk - One More Time \n",
      " -  Alice DJ - Better Off Alone\n",
      " - Rudimental - Feel The Love (feat. John Newman)\n",
      " - Justin Timberlake - Strawberry Bubblegum\n",
      " - Justin Timberlake - Spaceship Coupe\n",
      " - Tiësto - Adagio For Strings\n",
      "Pixies - Where Is My Mind? \n",
      " -  Radiohead - No Surprises\n",
      " - Radiohead - High And Dry\n",
      " - The White Stripes - Fell In Love With A Girl\n",
      " - Queens of the Stone Age - I Sat By The Ocean\n",
      " - Incubus - Aqueous Transmission\n"
     ]
    }
   ],
   "source": [
    "print(show_infos(66), \"\\n - \", \"\\n - \".join(find_n_closest(embeding_matrix[66], 5)))\n",
    "print(show_infos(400), \"\\n - \", \"\\n - \".join(find_n_closest(embeding_matrix[400], 5)))\n",
    "print(show_infos(562), \"\\n - \", \"\\n - \".join(find_n_closest(embeding_matrix[562], 5)))\n",
    "print(show_infos(302), \"\\n - \", \"\\n - \".join(find_n_closest(embeding_matrix[302], 5)))\n",
    "print(show_infos(2420), \"\\n - \", \"\\n - \".join(find_n_closest(embeding_matrix[2420], 5)))\n",
    "print(show_infos(1428), \"\\n - \", \"\\n - \".join(find_n_closest(embeding_matrix[1428], 5)))"
   ]
  },
  {
   "cell_type": "code",
   "execution_count": 22,
   "metadata": {},
   "outputs": [],
   "source": [
    "def complete_playlist(playlist, n):\n",
    "    distances = []\n",
    "    for i in range(len(embeding_matrix)):\n",
    "        dst = 0\n",
    "        for track_id in playlist:\n",
    "            dst += np.linalg.norm(embeding_matrix[i] - embeding_matrix[track_id])\n",
    "        distances.append(dst)\n",
    "        \n",
    "    tracks = []\n",
    "    for i in range(n+1):\n",
    "        closest_id = np.argmin(distances)\n",
    "        if distances[closest_id] != 0.0:\n",
    "            tracks.append(show_infos(closest_id))\n",
    "        distances[closest_id] = 10000\n",
    "    return tracks"
   ]
  },
  {
   "cell_type": "code",
   "execution_count": 23,
   "metadata": {},
   "outputs": [
    {
     "name": "stdout",
     "output_type": "stream",
     "text": [
      "Daft Punk - Harder Better Faster Stronger\n",
      " -Daft Punk - Around The World\n",
      " -Justice - D.A.N.C.E.\n",
      " -Daft Punk - One More Time\n",
      " -C2C - Happy\n",
      " -Lizzo - Let 'em Say\n",
      " -Die Antwoord - I Fink U Freeky\n",
      " -Robyn - Dancing On My Own\n",
      " -Alice DJ - Better Off Alone\n",
      " -Galantis - Smile\n",
      " -Icona Pop - I Love It (feat. Charli XCX) - Cobra Starship Remix Radio Edit\n",
      " -Marina and the Diamonds - Primadonna\n",
      " -Simian - We Are Your Friends - Original Mix\n",
      " -Chromeo - Jealous (I Ain't With It)\n",
      " -Dirty Vegas - Days Go By\n",
      " -SayMaxWell - We Are Number One (Remix)\n",
      " -X Ambassadors - Jungle\n",
      " -MKTO - God Only Knows\n",
      " -Janelle Monáe - Q.U.E.E.N. [feat. Erykah Badu]\n",
      " -Justin Timberlake - Let the Groove Get In\n",
      " -Kylie Minogue - Can't Get You Out Of My Head\n",
      " -Cascada - Bad Boy\n",
      " -Janet Jackson - All For You\n",
      " -John Newman - Love Me Again\n",
      " -Coldplay - Adventure Of A Lifetime\n",
      " -M.I.A. - Boyz\n"
     ]
    }
   ],
   "source": [
    "# daft punk\n",
    "print(\"\\n -\".join(complete_playlist([2420, 3054, 4829], 25)))"
   ]
  },
  {
   "cell_type": "code",
   "execution_count": 25,
   "metadata": {},
   "outputs": [
    {
     "data": {
      "text/plain": [
       "['Alan Walker - Faded',\n",
       " 'Alan Walker - Sing Me to Sleep',\n",
       " \"Sigala - Sweet Lovin' - Radio Edit\",\n",
       " 'The Chainsmokers - Until You Were Gone',\n",
       " 'Fais - Hey',\n",
       " 'Halsey - Hurricane - Arty Remix',\n",
       " 'Seven Lions - Strangers',\n",
       " 'Matoma - Running Out',\n",
       " 'Steve Aoki - Back 2 U',\n",
       " 'Lost Kings - You - Radio Edit',\n",
       " 'Kygo - Stay',\n",
       " 'Galantis - In My Head',\n",
       " 'Smallpools - Dreaming - The Chainsmokers Remix',\n",
       " 'Seeb - Breathe',\n",
       " \"MUNA - Winterbreak - Tiësto's Deep House Remix\",\n",
       " 'Tritonal - Untouchable',\n",
       " 'Jack Ü - To Ü (feat. AlunaGeorge)',\n",
       " 'Snakehips - All My Friends - 99 Souls Remix',\n",
       " 'The Chainsmokers - New York City',\n",
       " 'Gryffin - Heading Home',\n",
       " 'Alesso - I Wanna Know',\n",
       " 'Madden - Golden Light (feat. 6AM)',\n",
       " 'The Chainsmokers - Inside Out',\n",
       " 'Mike Posner - Be As You Are - JordanXL Remix',\n",
       " 'Robin Schulz - Heatwave (feat. Akon)',\n",
       " 'Tritonal - Blackout - Radio Edit']"
      ]
     },
     "execution_count": 25,
     "metadata": {},
     "output_type": "execute_result"
    }
   ],
   "source": [
    "# electro chill\n",
    "complete_playlist([542, 9179], 25)"
   ]
  },
  {
   "cell_type": "code",
   "execution_count": 30,
   "metadata": {},
   "outputs": [
    {
     "data": {
      "text/plain": [
       "['Nightwish - Nemo',\n",
       " 'Avenged Sevenfold - Thick And Thin',\n",
       " 'Papa Roach - Dead Cell',\n",
       " 'Slipknot - Eeyore',\n",
       " 'In Flames - Where The Dead Ships Dwell',\n",
       " 'Wovenwar - All Rise',\n",
       " 'Disturbed - Intoxication',\n",
       " 'Slipknot - No Life',\n",
       " 'Black Tide - That Fire',\n",
       " 'Otep - Confrontation',\n",
       " 'Pantera - Revolution Is My Name',\n",
       " 'Seether - Suffer It All',\n",
       " 'Sabaton - Night Witches',\n",
       " 'Trivium - Dying In Your Arms',\n",
       " 'Rob Zombie - Feel So Numb',\n",
       " 'Static-X - Bled For Days',\n",
       " 'As I Lay Dying - The Darkest Nights',\n",
       " 'Puscifer - The Mission \"M Is For Milla Mix\"',\n",
       " 'Slipknot - Vendetta',\n",
       " 'Earshot - Headstrong',\n",
       " 'Bullet For My Valentine - A Place Where You Belong',\n",
       " 'In Flames - Take This Life',\n",
       " 'Bullet For My Valentine - Pretty On The Outside',\n",
       " 'As I Lay Dying - Nothing Left',\n",
       " 'Slipknot - People = Shit',\n",
       " 'Bad Religion - Infected']"
      ]
     },
     "execution_count": 30,
     "metadata": {},
     "output_type": "execute_result"
    }
   ],
   "source": [
    "# metal\n",
    "complete_playlist([98308, 70727, 77595, 103732, 122755], 25)"
   ]
  },
  {
   "cell_type": "code",
   "execution_count": null,
   "metadata": {},
   "outputs": [],
   "source": []
  }
 ],
 "metadata": {
  "kernelspec": {
   "display_name": "Python 3.9.0 64-bit",
   "language": "python",
   "name": "python3"
  },
  "language_info": {
   "codemirror_mode": {
    "name": "ipython",
    "version": 3
   },
   "file_extension": ".py",
   "mimetype": "text/x-python",
   "name": "python",
   "nbconvert_exporter": "python",
   "pygments_lexer": "ipython3",
   "version": "3.9.0"
  },
  "orig_nbformat": 4,
  "vscode": {
   "interpreter": {
    "hash": "c159ff16639e7709a56ca81ec8afaaa6150482356dfb759e7600fe6e8560a2a8"
   }
  }
 },
 "nbformat": 4,
 "nbformat_minor": 2
}
