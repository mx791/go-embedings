{
 "cells": [
  {
   "cell_type": "code",
   "execution_count": 5,
   "metadata": {},
   "outputs": [],
   "source": [
    "import json\n",
    "import numpy as np"
   ]
  },
  {
   "cell_type": "code",
   "execution_count": 3,
   "metadata": {},
   "outputs": [],
   "source": [
    "tracks = json.load(open(\"./tracks_.json\", encoding=\"utf-8\"))\n",
    "embedings = json.load(open(\"./embedings.json\"))"
   ]
  },
  {
   "cell_type": "code",
   "execution_count": 8,
   "metadata": {},
   "outputs": [],
   "source": [
    "embeding_matrix = []\n",
    "for ebd in embedings:\n",
    "    embeding_matrix.append(ebd)\n",
    "\n",
    "embeding_matrix = np.array(embeding_matrix)"
   ]
  },
  {
   "cell_type": "code",
   "execution_count": 9,
   "metadata": {},
   "outputs": [],
   "source": [
    "id_to_track = {}\n",
    "\n",
    "for track in tracks:\n",
    "    id_to_track[tracks[track][\"id\"]] = tracks[track]"
   ]
  },
  {
   "cell_type": "code",
   "execution_count": 24,
   "metadata": {},
   "outputs": [
    {
     "name": "stdout",
     "output_type": "stream",
     "text": [
      "Queen - Bohemian Rhapsody - Remastered 2011\n",
      "Thunderstruck - Back in Black\n",
      "David Guetta - Titanium (feat. Sia) - feat. Sia\n",
      "Daft Punk - One More Time\n"
     ]
    }
   ],
   "source": [
    "def show_infos(id):\n",
    "    return id_to_track[id][\"artist_name\"] + \" - \" + id_to_track[id][\"name\"]\n",
    "\n",
    "print(show_infos(75))\n",
    "print(show_infos(6194))\n",
    "print(show_infos(2169))\n",
    "print(show_infos(312))"
   ]
  },
  {
   "cell_type": "code",
   "execution_count": 20,
   "metadata": {},
   "outputs": [],
   "source": [
    "def find_n_closest(track_ebd, n):\n",
    "    distances = [np.linalg.norm(track_ebd - ebd) for ebd in embeding_matrix]\n",
    "    tracks = []\n",
    "    for i in range(n+1):\n",
    "        closest_id = np.argmin(distances)\n",
    "        if distances[closest_id] != 0.0:\n",
    "            tracks.append(show_infos(closest_id))\n",
    "        distances[closest_id] = 10000\n",
    "    return tracks"
   ]
  },
  {
   "cell_type": "code",
   "execution_count": 28,
   "metadata": {},
   "outputs": [
    {
     "name": "stdout",
     "output_type": "stream",
     "text": [
      "Queen - Bohemian Rhapsody - Remastered 2011 \n",
      " -  Guns N' Roses - Sweet Child O' Mine\n",
      " - Steppenwolf - Born To Be Wild\n",
      " - Aerosmith - Sweet Emotion\n",
      " - The Police - Roxanne - Remastered 2003\n",
      " - Journey - Separate Ways (Worlds Apart)\n",
      " - Queen - Fat Bottomed Girls\n",
      " - Bruce Springsteen - Dancing In The Dark\n",
      " - Survivor - Eye of the Tiger\n",
      " - Fleetwood Mac - Go Your Own Way - 2004 Remastered Edition\n",
      " - The Who - Baba O'Riley\n",
      "Thunderstruck - Back in Black \n",
      " -  Back In Black - You Shook Me All Night Long\n",
      " - L.A. Guns - I Love Rock And Roll\n",
      " - White Lion - When The Children Cry\n",
      " - Aerosmith - Water Song/Janie's Got A Gun\n",
      " - Queensrÿche - Jet City Woman - 2003 Digital Remaster\n",
      " - AC/DC - Stiff Upper Lip\n",
      " - Michael Jackson - The Way You Make Me Feel - Single Version\n",
      " - Saigon Kick - Love Is on the Way\n",
      " - Meat Loaf - I'd Do Anything For Love (But I Won't Do That) - Longer Still But Not As Long As The Album Version\n",
      " - AC/DC - The Jack\n",
      "David Guetta - Titanium (feat. Sia) - feat. Sia \n",
      " -  Pitbull - Timber\n",
      " - Selena Gomez - Come & Get It\n",
      " - Jessie J - Bang Bang\n",
      " - The Wanted - Glad You Came\n",
      " - Cher Lloyd - Want U Back\n",
      " - Jessie J - Domino\n",
      " - Maroon 5 - Moves Like Jagger - Studio Recording From The Voice Performance\n",
      " - P!nk - Raise Your Glass\n",
      " - Jessie J - Price Tag\n",
      " - Lady Gaga - Applause\n",
      "Daft Punk - One More Time \n",
      " -  Linkin Park - I'LL BE GONE - Vice Remix feat. Pusha T\n",
      " - Daft Punk - Around The World / Harder Better Faster Stronger\n",
      " - Macklemore & Ryan Lewis - Otherside (feat. Fences) [Ryan Lewis Remix]\n",
      " - El Cata - Cotorra Y Voli (Remix)\n",
      " - Armin van Buuren - Orbion\n",
      " - Madcon - Beggin'\n",
      " - Dash Berlin - Till The Sky Falls Down\n",
      " - Pharrell Williams - Marilyn Monroe\n",
      " - Alaska Thunderfuck - The T (feat. Adore Delano)\n",
      " - Kaskade - Lick It (Kaskades ICE Mix)\n"
     ]
    }
   ],
   "source": [
    "print(show_infos(75), \"\\n - \", \"\\n - \".join(find_n_closest(embeding_matrix[75], 10)))\n",
    "print(show_infos(6194), \"\\n - \", \"\\n - \".join(find_n_closest(embeding_matrix[6194], 10)))\n",
    "print(show_infos(2169), \"\\n - \", \"\\n - \".join(find_n_closest(embeding_matrix[2169], 10)))\n",
    "print(show_infos(312), \"\\n - \", \"\\n - \".join(find_n_closest(embeding_matrix[312], 10)))"
   ]
  },
  {
   "cell_type": "code",
   "execution_count": 29,
   "metadata": {},
   "outputs": [],
   "source": [
    "def complete_playlist(playlist, n):\n",
    "    distances = []\n",
    "    for i in range(len(embeding_matrix)):\n",
    "        dst = 0\n",
    "        for track_id in playlist:\n",
    "            dst += np.linalg.norm(embeding_matrix[i] - embeding_matrix[track_id])\n",
    "        distances.append(dst)\n",
    "        \n",
    "    tracks = []\n",
    "    for i in range(n+1):\n",
    "        closest_id = np.argmin(distances)\n",
    "        if distances[closest_id] != 0.0:\n",
    "            tracks.append(show_infos(closest_id))\n",
    "        distances[closest_id] = 10000\n",
    "    return tracks"
   ]
  },
  {
   "cell_type": "code",
   "execution_count": 36,
   "metadata": {},
   "outputs": [
    {
     "name": "stdout",
     "output_type": "stream",
     "text": [
      "Daft Punk - Around The World\n",
      " -Daft Punk - Harder Better Faster Stronger\n",
      " -Daft Punk - Television Rules The Nation / Crescendolls\n",
      " -Daft Punk - High Fidelity\n",
      " -Girl Talk - Play Your Part (Pt. 1)\n",
      " -Pendulum - The Tempest\n",
      " -Daft Punk - One More Time\n",
      " -Pharrell Williams - Marilyn Monroe\n",
      " -Daft Punk - Around The World - Radio Edit\n",
      " -Benny Benassi presents The Biz - Satisfaction - RL Grime Remix\n",
      " -Daft Punk - Too Long / Steam Machine\n",
      " -Daft Punk - Rinzler - Remixed by Kaskade\n",
      " -Daft Punk - Da Funk\n",
      " -Justice - Genesis\n",
      " -C2C - Delta\n",
      " -The Glitch Mob - Skytoucher\n",
      " -The Glitch Mob - Animus Vox\n",
      " -Pharrell Williams - Gust of Wind\n",
      " -Girl Talk - What It's All About\n",
      " -Dizzee Rascal - Dance Wiv Me\n",
      " -Santigold - You'll Find A Way (Switch and Sinden Remix)\n",
      " -The Glitch Mob - Fortune Days\n",
      " -M.I.A. - XXXO\n",
      " -Pretty Lights - Keep Em Bouncin\n",
      " -Daft Punk - Rectifier\n",
      " -Daft Punk - Aerodynamic (Daft Punk Remix)\n"
     ]
    }
   ],
   "source": [
    "# daft punk\n",
    "print(\"\\n -\".join(complete_playlist([312, 3997, 5593], 25)))"
   ]
  },
  {
   "cell_type": "code",
   "execution_count": 31,
   "metadata": {},
   "outputs": [
    {
     "data": {
      "text/plain": [
       "['Alan Walker - Alone',\n",
       " \"Quintino - Can't Fight It\",\n",
       " 'Prince Fox - Fragile',\n",
       " 'Lost Kings - You - Evan Berg Remix Edit',\n",
       " 'Dillon Francis - Anywhere',\n",
       " 'Marshmello - Ritual (feat. Wrabel)',\n",
       " 'Felix Jaehn - Bonfire',\n",
       " 'Ellie Goulding - Still Falling For You - Jonas Blue Remix',\n",
       " 'Matoma - Paradise (feat. KStewart)',\n",
       " 'Tiësto - On My Way',\n",
       " 'Alan Walker - Sing Me to Sleep - Marshmello Remix',\n",
       " 'Hardwell - Thinking About You',\n",
       " 'Tritonal - Getaway',\n",
       " 'Cheat Codes - Say Goodbye',\n",
       " 'Alesso - I Wanna Know - Alesso & Deniz Koyu Remix',\n",
       " 'Martin Garrix - In The Name Of Love - The Him Remix',\n",
       " 'Ed Sheeran - Shape of You - Galantis Remix',\n",
       " 'The Ready Set - Good Enough (Michael Brun x The Ready Set)',\n",
       " 'Don Diablo - What We Started',\n",
       " 'Krewella - Team',\n",
       " 'Fais - Hey',\n",
       " 'Otto Knows - Back Where I Belong (feat. Avicii)',\n",
       " 'Alicia Keys - In Common - Kaskade Radio Mix',\n",
       " 'Sam Feldt - Open Your Eyes',\n",
       " 'Martin Jensen - All I Wanna Do',\n",
       " 'DJ Snake - Here Comes The Night']"
      ]
     },
     "execution_count": 31,
     "metadata": {},
     "output_type": "execute_result"
    }
   ],
   "source": [
    "# electro commercial & calme\n",
    "complete_playlist([6046, 8856, 21657], 25)"
   ]
  },
  {
   "cell_type": "code",
   "execution_count": 33,
   "metadata": {},
   "outputs": [
    {
     "data": {
      "text/plain": [
       "['Powerwolf - Army Of The Night',\n",
       " 'Sabaton - To Hell and Back',\n",
       " 'As I Lay Dying - 94 Hours',\n",
       " 'Sabaton - Primo Victoria',\n",
       " 'Sepultura - Roots Bloody Roots',\n",
       " 'Lamb of God - The Faded Line',\n",
       " 'Slipknot - The Nameless',\n",
       " 'Marilyn Manson - If I Was Your Vampire',\n",
       " 'Amon Amarth - Twilight Of The Thunder God',\n",
       " 'Veil Of Maya - Mikasa',\n",
       " 'Slipknot - Override',\n",
       " 'Slayer - Postmortem',\n",
       " 'Hatebreed - I Will Be Heard',\n",
       " 'As I Lay Dying - Confined',\n",
       " 'Slipknot - Liberate',\n",
       " 'Sabaton - Resist and Bite',\n",
       " 'Lamb of God - 512',\n",
       " 'Metalocalypse: Dethklok - Face Fisted',\n",
       " 'Whitechapel - I, Dementia',\n",
       " 'As I Lay Dying - Through Struggle',\n",
       " 'Emmure - Solar Flare Homicide',\n",
       " 'Killswitch Engage - A Bid Farewell',\n",
       " 'Lamb of God - Black Label',\n",
       " 'Amon Amarth - As Loke Falls',\n",
       " 'Lamb of God - Hourglass',\n",
       " 'Lamb of God - Omerta']"
      ]
     },
     "execution_count": 33,
     "metadata": {},
     "output_type": "execute_result"
    }
   ],
   "source": [
    "# metal\n",
    "complete_playlist([90120, 329727, 308744], 25)"
   ]
  },
  {
   "cell_type": "code",
   "execution_count": 34,
   "metadata": {},
   "outputs": [
    {
     "data": {
      "text/plain": [
       "['Gloryhammer - Universe On Fire',\n",
       " 'Gloryhammer - Rise Of The Chaos Wizards',\n",
       " 'Alestorm - Magnetic North',\n",
       " 'Sabaton - The Lost Battalion',\n",
       " 'Powerwolf - Blessed & Possessed',\n",
       " 'Dark Tranquillity - Atoma',\n",
       " 'Alestorm - Walk The Plank',\n",
       " 'After The Burial - Collapse',\n",
       " 'Hammerfall - Last Man Standing',\n",
       " 'Sabaton - Resist and Bite',\n",
       " 'Slayer - Expendable Youth',\n",
       " 'Powerwolf - We Drink Your Blood',\n",
       " 'Monuments - I, The Creator',\n",
       " 'Iron Maiden - The Duelists - 1998 Remastered Version',\n",
       " 'DevilDriver - End Of The Line',\n",
       " 'Marilyn Manson - Angel With The Scabbed Wings',\n",
       " 'Wage War - Desperate',\n",
       " 'Marilyn Manson - In The Shadow Of The Valley Of Death',\n",
       " 'Slayer - New Faith',\n",
       " 'Our Lady Peace - Whatever',\n",
       " 'Marilyn Manson - Better Of Two Evils',\n",
       " 'Oceano - District of Misery',\n",
       " 'As I Lay Dying - Through Struggle',\n",
       " 'Pantera - The Art Of Shredding',\n",
       " 'Lamb of God - Hourglass',\n",
       " 'Unearth - Black Hearts Now Reign']"
      ]
     },
     "execution_count": 34,
     "metadata": {},
     "output_type": "execute_result"
    }
   ],
   "source": [
    "# metal aussi\n",
    "complete_playlist([329729, 431108], 25)"
   ]
  },
  {
   "cell_type": "code",
   "execution_count": null,
   "metadata": {},
   "outputs": [],
   "source": []
  }
 ],
 "metadata": {
  "kernelspec": {
   "display_name": "Python 3.7.6 64-bit",
   "language": "python",
   "name": "python3"
  },
  "language_info": {
   "codemirror_mode": {
    "name": "ipython",
    "version": 3
   },
   "file_extension": ".py",
   "mimetype": "text/x-python",
   "name": "python",
   "nbconvert_exporter": "python",
   "pygments_lexer": "ipython3",
   "version": "3.7.6"
  },
  "orig_nbformat": 4,
  "vscode": {
   "interpreter": {
    "hash": "c34733ba855ebbe5594fccbcda88acaa56978c5cdcab412ff738665113ed6ee4"
   }
  }
 },
 "nbformat": 4,
 "nbformat_minor": 2
}
